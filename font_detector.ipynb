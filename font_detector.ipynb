{
 "cells": [
  {
   "cell_type": "code",
   "execution_count": 63,
   "metadata": {
    "collapsed": true
   },
   "outputs": [],
   "source": [
    "from os import listdir\n",
    "from os.path import isfile, join\n",
    "import os\n",
    "import numpy\n",
    "import cv2\n",
    "import matplotlib.pyplot as plt\n",
    "import pickle\n",
    "%matplotlib inline\n",
    "import time\n",
    "\n",
    "import glob\n",
    "\n",
    "#import math\n",
    "\n",
    "#import datetime\n",
    "import pandas as pd\n",
    "\n",
    "# input image dimensions\n",
    "imgSize = [129,129]\n",
    "input_shape = (imgSize[0],imgSize[1],1)\n",
    "numpy.random.seed(123)  # for reproducibility\n",
    "\n",
    "def load_train(img_path):\n",
    "    # open images in one letter folder\n",
    "    mypath=img_path\n",
    "    onlyfiles = [ f for f in listdir(mypath) if isfile(join(mypath,f)) ]\n",
    "    print(onlyfiles)\n",
    "    #.Dash_store\n",
    "    if onlyfiles[0][0] == '.':  \n",
    "        del onlyfiles[0]\n",
    "        print(onlyfiles)\n",
    "    images = numpy.empty([len(onlyfiles),imgSize[0],imgSize[1]], dtype=object)\n",
    "    labels = numpy.empty(len(onlyfiles), dtype=object)\n",
    "    print(images.shape)\n",
    "    for n in range(0, len(onlyfiles)):\n",
    "        img = cv2.imread( join(mypath,onlyfiles[n]) )\n",
    "        img = cv2.resize(img, (129, 129))\n",
    "        #convert to gray\n",
    "        img = cv2.cvtColor(img, cv2.COLOR_BGR2GRAY)\n",
    "\n",
    "        # Apply dilation and erosion to remove some noise\n",
    "        kernel = numpy.ones((1, 1), numpy.uint8)\n",
    "        img = cv2.dilate(img, kernel, iterations=1)\n",
    "        img = cv2.erode(img, kernel, iterations=1)\n",
    "        \n",
    "        #  Apply threshold to get image with only black and white\n",
    "        # img = cv2.adaptiveThreshold(img, 255, cv2.ADAPTIVE_THRESH_GAUSSIAN_C, cv2.THRESH_BINARY, 31, 2)\n",
    "        # threshold make the picture a little bumpy\n",
    "        \n",
    "        images[n] = img\n",
    "        # get the font only\n",
    "        # labels[n] = onlyfiles[n].split(\"-\")[1].split(\".png\")[0]\n",
    "        # get the font and tag\n",
    "        # labels[n] = onlyfiles[n].split(\".png\")[0]\n",
    "        labels[n] = onlyfiles[n].split(\".png\")[0].split(\"-\")[1]\n",
    "        # print(img.shape)\n",
    "        \n",
    "        if (n==0):\n",
    "            plt.subplot(330 + (n+1))\n",
    "            plt.imshow(img, cmap=plt.get_cmap('gray'))\n",
    "            plt.title(labels[n])\n",
    "            plt.savefig(\"test.png\",bbox_inches='tight')\n",
    "        \n",
    "    return [images,labels]\n",
    "\n",
    "def load_train_dic(file_path):\n",
    "    # open images in one letter folder\n",
    "    mypath=file_path\n",
    "    folders = [ f for f in listdir(mypath) ]\n",
    "    print(\"folders:\",folders)\n",
    "    #.Dash_store\n",
    "    if folders[0][0] == '.':  \n",
    "        del folders[0]\n",
    "        print(\"after folders:\",folders)\n",
    "    imagesArr = numpy.empty([1,imgSize[0],imgSize[1]], dtype=object)\n",
    "    labelsArr = numpy.empty(1, dtype=object)\n",
    "    print(\"arrshape:\", imagesArr.shape)\n",
    "    for i in range(0, len(folders)):\n",
    "        targetpath = join(mypath,folders[i])  \n",
    "        onlyfiles = [ f for f in listdir(targetpath) if isfile(join(targetpath,f)) ]\n",
    "        #print(\"only files:\",onlyfiles)\n",
    "        if onlyfiles[0][0] == '.':  \n",
    "            del onlyfiles[0]\n",
    "            print(\"after\",onlyfiles)\n",
    "        images = numpy.empty([len(onlyfiles),imgSize[0],imgSize[1]], dtype=object)\n",
    "        labels = numpy.empty(len(onlyfiles), dtype=object)\n",
    "        print(\"images.shape b:\",images.shape)\n",
    "        for n in range(0, len(onlyfiles)):\n",
    "            img = cv2.imread( join(targetpath,onlyfiles[n]) )\n",
    "            img = cv2.resize(img, (129, 129))\n",
    "            #convert to gray\n",
    "            img = cv2.cvtColor(img, cv2.COLOR_BGR2GRAY)\n",
    "\n",
    "            # Apply dilation and erosion to remove some noise\n",
    "            kernel = numpy.ones((1, 1), numpy.uint8)\n",
    "            img = cv2.dilate(img, kernel, iterations=1)\n",
    "            img = cv2.erode(img, kernel, iterations=1)\n",
    "\n",
    "            #  Apply threshold to get image with only black and white\n",
    "            # img = cv2.adaptiveThreshold(img, 255, cv2.ADAPTIVE_THRESH_GAUSSIAN_C, cv2.THRESH_BINARY, 31, 2)\n",
    "            # threshold make the picture a little bumpy\n",
    "\n",
    "            images[n] = img\n",
    "            # get the font only\n",
    "            # labels[n] = onlyfiles[n].split(\"-\")[1].split(\".png\")[0]\n",
    "            # get the font and tag\n",
    "            labels[n] = onlyfiles[n].split(\".png\")[0]\n",
    "            # print(img.shape)\n",
    "\n",
    "            if (n==0):\n",
    "                plt.subplot(330 + (n+1))\n",
    "                plt.imshow(img, cmap=plt.get_cmap('gray'))\n",
    "                plt.title(labels[n])\n",
    "                plt.savefig(\"test.png\",bbox_inches='tight')\n",
    "        \n",
    "        print(\"images a:\",images.shape)\n",
    "        imagesArr = numpy.append(imagesArr, images, axis = 0)\n",
    "        labelsArr = numpy.append(labelsArr, labels, axis = 0)\n",
    "        print(imagesArr.shape, labelsArr.shape)\n",
    "        print(\"i:\",i, targetpath)\n",
    "        if i==51 :\n",
    "            print(\"onlyfiles:\",len(onlyfiles),onlyfiles)\n",
    "        \n",
    "    imagesArr = numpy.delete(imagesArr, 0, 0)\n",
    "    labelsArr = numpy.delete(labelsArr, 0)\n",
    "    print(imagesArr.shape, labelsArr.shape)\n",
    "    return [imagesArr, labelsArr]"
   ]
  },
  {
   "cell_type": "code",
   "execution_count": 64,
   "metadata": {
    "collapsed": true
   },
   "outputs": [],
   "source": [
    "def cache_data(data, path):\n",
    "    if os.path.isdir(os.path.dirname(path)):\n",
    "        file = open(path, 'wb')\n",
    "        pickle.dump(data, file)\n",
    "        file.close()\n",
    "    else:\n",
    "        print('Directory doesnt exists')\n",
    "\n",
    "def restore_data(path):\n",
    "    data = dict()\n",
    "    if os.path.isfile(path):\n",
    "        file = open(path, 'rb')\n",
    "        data = pickle.load(file)\n",
    "    return data\n",
    "\n",
    "def save_model(model):\n",
    "    json_string = model.to_json()\n",
    "    if not os.path.isdir('cache'):\n",
    "        os.mkdir('cache')\n",
    "    open(os.path.join('cache', 'architecture.json'), 'w').write(json_string)\n",
    "    model.save_weights(os.path.join('cache', 'model_weights.h5'), overwrite=True)\n",
    "\n",
    "def read_model():\n",
    "    model = model_from_json(open(os.path.join('cache', 'architecture.json')).read())\n",
    "    model.load_weights(os.path.join('cache', 'model_weights.h5'))\n",
    "    return model\n",
    "\n",
    "def process_income_image(input_data):\n",
    "    input_data = numpy.array(input_data, dtype=numpy.float32)\n",
    "    # train_data = train_data.transpose((0, 3, 1, 2))\n",
    "    input_data = input_data.astype('float32')\n",
    "    input_data /= 255\n",
    "    print('Train shape:', input_data.shape)\n",
    "    print(input_data.shape[0], 'train samples')\n",
    "    input_data = input_data.reshape(input_data.shape[0],input_data.shape[1],input_data.shape[2],1)\n",
    "    print(input_data.shape)\n",
    "    return input_data"
   ]
  },
  {
   "cell_type": "code",
   "execution_count": 65,
   "metadata": {},
   "outputs": [
    {
     "name": "stdout",
     "output_type": "stream",
     "text": [
      "Restore train from cache!\n",
      "(382, 129, 129) (382,)\n"
     ]
    }
   ],
   "source": [
    "cache_path = os.path.join('cache', 'train.dat')\n",
    "if not os.path.isfile(cache_path):\n",
    "    # train_data, train_target = load_train()\n",
    "    \n",
    "    X_train, y_train = load_train('preview')#load_train('onlyletter/g1')\n",
    "    #X_train, y_train = load_train_dic('onlyletter/')\n",
    "    # load_train('trimeddataset/g1')\n",
    "    print(X_train.shape, y_train.shape)\n",
    "    print(y_train)\n",
    "    cache_data((X_train, y_train), cache_path)\n",
    "    print(\"cache_data\")\n",
    "else:\n",
    "    print('Restore train from cache!')\n",
    "    (X_train, y_train) = restore_data(cache_path)\n",
    "    print(X_train.shape, y_train.shape)\n",
    "    "
   ]
  },
  {
   "cell_type": "code",
   "execution_count": 66,
   "metadata": {},
   "outputs": [
    {
     "name": "stdout",
     "output_type": "stream",
     "text": [
      "(382, 12)\n"
     ]
    }
   ],
   "source": [
    "from keras.utils import np_utils\n",
    "from sklearn.preprocessing import LabelEncoder\n",
    "\n",
    "#save the uncoded labels\n",
    "labels_data = y_train\n",
    "# encode class values as integers\n",
    "encoder = LabelEncoder()\n",
    "encoder.fit(y_train)\n",
    "encoded_Y = encoder.transform(y_train)\n",
    "# print(encoded_Y.shape, encoded_Y) \n",
    "# [0,1,2,3...,34,35]\n",
    "# convert integers to dummy variables (i.e. one hot encoded)\n",
    "dummy_y = np_utils.to_categorical(encoded_Y)\n",
    "# print(dummy_y.shape, dummy_y)\n",
    "# [1,0,0....0][0,1,0....,0][0,0,1,...,0]\n",
    "\n",
    "y_train = dummy_y\n",
    "print(y_train.shape)"
   ]
  },
  {
   "cell_type": "code",
   "execution_count": 67,
   "metadata": {},
   "outputs": [
    {
     "name": "stdout",
     "output_type": "stream",
     "text": [
      "Train shape: (382, 129, 129)\n",
      "382 train samples\n",
      "(382, 129, 129, 1)\n"
     ]
    }
   ],
   "source": [
    "X_train = process_income_image(X_train)\n",
    "imgTrain = X_train.reshape(X_train.shape[0], imgSize[0], imgSize[1])"
   ]
  },
  {
   "cell_type": "code",
   "execution_count": 68,
   "metadata": {},
   "outputs": [
    {
     "data": {
      "image/png": "[encoded data removed]",
      "text/plain": [
       "<matplotlib.figure.Figure at 0x14fbb3198>"
      ]
     },
     "metadata": {},
     "output_type": "display_data"
    }
   ],
   "source": [
    "from sklearn.model_selection import train_test_split\n",
    "from spatial_transformer import SpatialTransformer\n",
    "\n",
    "# imgTrain2 = image_arrayts.reshape(images_datats.shape[0], imgSize[0], imgSize[1])\n",
    "\n",
    "for i in range(5, 9):\n",
    "    plt.subplot(330 + (i+1))\n",
    "    plt.imshow(imgTrain[i], cmap=plt.get_cmap('gray'))\n",
    "    plt.title(labels_data[i])"
   ]
  },
  {
   "cell_type": "code",
   "execution_count": 69,
   "metadata": {
    "collapsed": true
   },
   "outputs": [],
   "source": [
    "from keras.callbacks import EarlyStopping,CSVLogger,ModelCheckpoint\n",
    "\n",
    "callbacks = [EarlyStopping(monitor='loss',patience=3,verbose=1)]#]#monitor='val_loss',patience=3,verbose=1)]"
   ]
  },
  {
   "cell_type": "code",
   "execution_count": 70,
   "metadata": {
    "collapsed": true
   },
   "outputs": [],
   "source": [
    "from keras.preprocessing.image import ImageDataGenerator, array_to_img, img_to_array, load_img\n",
    "\n",
    "def generatImage(img, label):\n",
    "    datagen = ImageDataGenerator(\n",
    "            rotation_range=10,\n",
    "            width_shift_range=0.2,\n",
    "            height_shift_range=0.2,\n",
    "            shear_range=0.2,\n",
    "            #zoom_range=0.2,\n",
    "            zoom_range=[1.3,1.5],\n",
    "            fill_mode=\"constant\",\n",
    "            cval=255\n",
    "            # horizontal_flip=True,\n",
    "            )\n",
    "\n",
    "    #img = load_img('trimeddataset/g1/h1-Baskerville.png')  # this is a PIL image\n",
    "    x = img_to_array(img)  # this is a Numpy array with shape (3, 150, 150)\n",
    "    x = x.reshape((1,) + x.shape)  # this is a Numpy array with shape (1, 3, 150, 150)\n",
    "    label = label + '-0'\n",
    "    # the .flow() command below generates batches of randomly transformed images\n",
    "    # and saves the results to the `preview/` directory\n",
    "    i = 0\n",
    "    for batch in datagen.flow(x, batch_size=1,\n",
    "                              save_to_dir='preview', save_prefix=label, save_format='png'):\n",
    "        i += 1\n",
    "        if i > 30:\n",
    "            break  # otherwise the generator would loop indefinitely"
   ]
  },
  {
   "cell_type": "code",
   "execution_count": 71,
   "metadata": {},
   "outputs": [],
   "source": [
    "def loadImageToGen(img_path):    \n",
    "    # open images in one letter folder\n",
    "    mypath=img_path\n",
    "    onlyfiles = [ f for f in listdir(mypath) if isfile(join(mypath,f)) ]\n",
    "    print(onlyfiles)\n",
    "    #.Dash_store\n",
    "    if onlyfiles[0][0] == '.':  \n",
    "        del onlyfiles[0]\n",
    "        print(onlyfiles)\n",
    "    images = numpy.empty([len(onlyfiles),imgSize[0],imgSize[1]], dtype=object)\n",
    "    labels = numpy.empty(len(onlyfiles), dtype=object)\n",
    "    print(images.shape)\n",
    "    for n in range(0, len(onlyfiles)):\n",
    "        img = cv2.imread( join(mypath,onlyfiles[n]) )\n",
    "        img = cv2.resize(img, (129, 129))\n",
    "        #convert to gray\n",
    "        img = cv2.cvtColor(img, cv2.COLOR_BGR2GRAY)\n",
    "\n",
    "        # Apply dilation and erosion to remove some noise\n",
    "        kernel = numpy.ones((1, 1), numpy.uint8)\n",
    "        img = cv2.dilate(img, kernel, iterations=1)\n",
    "        img = cv2.erode(img, kernel, iterations=1)\n",
    "        \n",
    "        #  Apply threshold to get image with only black and white\n",
    "        # img = cv2.adaptiveThreshold(img, 255, cv2.ADAPTIVE_THRESH_GAUSSIAN_C, cv2.THRESH_BINARY, 31, 2)\n",
    "        # threshold make the picture a little bumpy\n",
    "        \n",
    "        images[n] = img\n",
    "        # get the font only\n",
    "        # labels[n] = onlyfiles[n].split(\"-\")[1].split(\".png\")[0]\n",
    "        # get the font and tag\n",
    "        labels[n] = onlyfiles[n].split(\".png\")[0]\n",
    "        # print(img.shape)\n",
    "        generatImage(img, labels[n])\n",
    "        \n",
    "        if (n==6):\n",
    "            plt.subplot(330 + (n+1))\n",
    "            plt.imshow(img, cmap=plt.get_cmap('gray'))\n",
    "            plt.title(labels[n])\n",
    "        \n",
    "    # images:(n, 129, 129)\n",
    "    # labels:(n,)\n",
    "    return [images,labels]\n",
    "\n",
    "#loadImageToGen('onlyletter/g1')"
   ]
  },
  {
   "cell_type": "code",
   "execution_count": 74,
   "metadata": {
    "collapsed": true
   },
   "outputs": [],
   "source": [
    "from keras.models import Sequential\n",
    "from keras.layers import Dense, Dropout, Activation, Flatten, Lambda, BatchNormalization\n",
    "from keras.layers import Conv2D, MaxPooling2D\n",
    "from keras.utils import np_utils\n",
    "\n",
    "# def selu(x):\n",
    "#     import tensorflow as tf\n",
    "#     alpha = 1.6732632423543772848170429916717\n",
    "#     scale = 1.0507009873554804934193349852946\n",
    "#     return scale*tf.where(x >= 0.0, x, alpha*tf.nn.elu(x))"
   ]
  },
  {
   "cell_type": "code",
   "execution_count": 75,
   "metadata": {
    "collapsed": true
   },
   "outputs": [],
   "source": [
    "# # initial weights\n",
    "# b = numpy.zeros((2, 3), dtype='float32')\n",
    "# b[0, 0] = 1\n",
    "# b[1, 1] = 1\n",
    "# W = numpy.zeros((50, 6), dtype='float32')\n",
    "# weights = [W, b.flatten()]\n",
    "\n",
    "# locnet = Sequential()\n",
    "# locnet.add(MaxPooling2D(pool_size=(2,2), input_shape=input_shape))\n",
    "# locnet.add(Conv2D(20, (5, 5)))\n",
    "# locnet.add(MaxPooling2D(pool_size=(2,2)))\n",
    "# locnet.add(Conv2D(20, (5, 5)))\n",
    "\n",
    "# locnet.add(Flatten())\n",
    "# locnet.add(Dense(50))\n",
    "# locnet.add(Activation('relu'))\n",
    "# locnet.add(Dense(6, weights=weights))\n",
    "#locnet.add(Activation('sigmoid'))"
   ]
  },
  {
   "cell_type": "code",
   "execution_count": 76,
   "metadata": {
    "collapsed": true
   },
   "outputs": [],
   "source": [
    "# def norm_input(x):\n",
    "#     mean = X_train.mean().astype(np.float32)\n",
    "#     std = X_train.std().astype(np.float32)\n",
    "#     return (x - mean) / std"
   ]
  },
  {
   "cell_type": "code",
   "execution_count": 77,
   "metadata": {
    "collapsed": true
   },
   "outputs": [],
   "source": [
    "def my_deeper_cnn_model():\n",
    "    model = Sequential()\n",
    "    #model.add(SpatialTransformer(localization_net=locnet, output_size=(80, 80), input_shape=input_shape))\n",
    "    #model.add(Convolution2D(32, (3, 3), activation='relu', input_shape=(1,28,28)))\n",
    "    model.add(Conv2D(64, (3, 3), input_shape=X_train.shape[1:], name = \"conv1\"))\n",
    "    model.add(Activation('relu'))\n",
    "    model.add(BatchNormalization())\n",
    "    model.add(MaxPooling2D(pool_size=(2,2)))\n",
    "    print (model.output_shape)\n",
    "    # (None, 26, 26, 32)\n",
    "    model.add(Conv2D(128, (3, 3),name = \"conv2\"))\n",
    "    model.add(Activation('relu'))\n",
    "    model.add(BatchNormalization())\n",
    "    model.add(MaxPooling2D(pool_size=(2,2)))\n",
    "    #model.add(Dropout(0.25))\n",
    "    model.add(Conv2D(256, (3, 3),name = \"conv3\"))\n",
    "    model.add(Activation('relu'))\n",
    "#     model.add(Conv2D(256, (1, 1),name = \"conv4\"))\n",
    "#     model.add(Activation('relu'))\n",
    "#     model.add(Conv2D(256, (1, 1)))\n",
    "#     model.add(Activation('relu'))\n",
    "    print (model.output_shape)\n",
    "\n",
    "    model.add(Flatten())\n",
    "    model.add(Dense(512, activation='relu'))\n",
    "    model.add(Dropout(0.15))\n",
    "    model.add(Dense(216, activation='relu'))\n",
    "    model.add(Dropout(0.25))\n",
    "    model.add(Dense(12, activation='softmax'))\n",
    "\n",
    "    \n",
    "    from keras import optimizers\n",
    "    ad10e4 = optimizers.Adam(lr=0.00005)\n",
    "    #commpile modelPython\n",
    "    model.compile(optimizer=ad10e4,\n",
    "                  loss='binary_crossentropy',\n",
    "                  metrics=['accuracy'])\n",
    "    return model"
   ]
  },
  {
   "cell_type": "code",
   "execution_count": 78,
   "metadata": {},
   "outputs": [
    {
     "name": "stdout",
     "output_type": "stream",
     "text": [
      "(382, 129, 129, 1) (382, 12) [ 1.  0.  0.  0.  0.  0.  0.  0.  0.  0.  0.  0.]\n"
     ]
    },
    {
     "data": {
      "image/png": "[encoded data removed]",
      "text/plain": [
       "<matplotlib.figure.Figure at 0x14fe7d9e8>"
      ]
     },
     "metadata": {},
     "output_type": "display_data"
    }
   ],
   "source": [
    "# test and visualize data to check if there's some problem\n",
    "print(X_train.shape, y_train.shape, y_train[0])\n",
    "# for n in range(0, 1):\n",
    "#     for i in range(0, len(X_train[n])):\n",
    "#         print(X_train[n][i])\n",
    "testTrain = X_train.reshape(X_train.shape[0],X_train.shape[1],X_train.shape[2])        \n",
    "for i in range(5, 9):\n",
    "    plt.subplot(330 + (i+1))\n",
    "    plt.imshow(testTrain[i], cmap=plt.get_cmap('gray'))\n",
    "    plt.title(labels_data[i])        "
   ]
  },
  {
   "cell_type": "code",
   "execution_count": null,
   "metadata": {},
   "outputs": [],
   "source": [
    "model = my_deeper_cnn_model()\n",
    "model.summary()\n",
    "#Fit keras Model\n",
    "# model.fit(X_train, Y_train,\n",
    "#           batch_size=256, epochs=30, verbose=1, callbacks=callbacks,validation_data=(X_test,Y_test)) #instead of 15epoch\n",
    "model.fit(X_train, y_train,\n",
    "          batch_size=256, epochs=20, verbose=1)#, validation_split=0.0001) #instead of 15epoch\n",
    "# callbacks=callbacks,\n",
    "# Epoch 1/10\n",
    "# 7744/60000 [==>...........................] - ETA: 96s - loss: 0.5806 - acc: 0.8164\n",
    "\n",
    "# score = model.evaluate(X_test, Y_test, verbose=0)\n",
    "# print(\"%s: %.2f%%\" % (model.metrics_names[1], score[1]*100))\n",
    "print('debuging')"
   ]
  },
  {
   "cell_type": "code",
   "execution_count": 21,
   "metadata": {},
   "outputs": [
    {
     "name": "stdout",
     "output_type": "stream",
     "text": [
      "['h1-Baskerville-003.jpeg', 'h1-Baskerville-004.jpeg', 'h1-Baskerville-005.jpeg', 'h1-Hobo_std-003.png', 'h1-Palatino-001.png', 'p-Andale_Mono-001.png', 'p-Andale_Mono-002.png', 'p-Baskerville-001.png', 'p-Baskerville-002.png', 'p-Cochin-001.png', 'p-Cochin-002.png', 'p-Helvetica-001.png', 'p-Helvetica-002.png', 'p-Hobo_std-001.png', 'p-Hobo_std-002.png']\n",
      "(15, 129, 129)\n",
      "Train shape: (15, 129, 129)\n",
      "15 train samples\n",
      "(15, 129, 129, 1)\n",
      "(15, 129, 129, 1) (15,)\n"
     ]
    },
    {
     "data": {
      "image/png": "[encoded data removed]",
      "text/plain": [
       "<matplotlib.figure.Figure at 0x134a0d898>"
      ]
     },
     "metadata": {},
     "output_type": "display_data"
    }
   ],
   "source": [
    "X_test, y_test = load_train('testImages')\n",
    "X_test = process_income_image(X_test)\n",
    "# imgTest = X_test.reshape(X_test.shape[0], imgSize[0], imgSize[1]，1)\n",
    "print(X_test.shape, y_test.shape)"
   ]
  },
  {
   "cell_type": "code",
   "execution_count": null,
   "metadata": {},
   "outputs": [],
   "source": [
    "# rst = model_L.predict_classes(images_datats, verbose=0)\n",
    "# print(rst.shape)\n",
    "\n",
    "print(X_train.shape, y_train.shape)\n",
    "rst = model.predict_classes(X_train, verbose=1)\n",
    "rststr = encoder.inverse_transform(rst)\n",
    "print(rst)\n",
    "print(rststr)\n",
    "print(y_train, y_train.shape[0])\n",
    "# print(y_test, y_test.shape[0])\n",
    "\n",
    "rst_df = pd.DataFrame({\"ImageId\": list(range(1,len(rst)+1)),\n",
    "                         \"Label\": rststr})#, \"ytest\": y_test.reshape(y_test.shape[0])})\n",
    "rst_df.to_csv('predict_testing10.csv', index=False, header=True)\n"
   ]
  },
  {
   "cell_type": "code",
   "execution_count": 101,
   "metadata": {},
   "outputs": [
    {
     "data": {
      "image/png": "[encoded data removed]",
      "text/plain": [
       "<matplotlib.figure.Figure at 0x15706a5f8>"
      ]
     },
     "metadata": {},
     "output_type": "display_data"
    }
   ],
   "source": [
    "# for i in [27401,27402,27406,27511,27916,27992]:#range(10, 12):\n",
    "#     i = 27992\n",
    "#     plt.subplot(330 + i%3+1)#(i+1))\n",
    "#     plt.imshow(imgTrain2[i], cmap=plt.get_cmap('gray'))\n",
    "#     plt.title(rst[i])\n",
    "\n",
    "for i in range(0, 3):\n",
    "    plt.subplot(330 + (i+1))\n",
    "    plt.imshow(sptImages[i], cmap=plt.get_cmap('gray'))\n",
    "    # plt.title([i])"
   ]
  },
  {
   "cell_type": "code",
   "execution_count": null,
   "metadata": {
    "collapsed": true
   },
   "outputs": [],
   "source": [
    "from keras.models import load_model\n",
    "\n",
    "model.save('my_model.h5')\n",
    "\n",
    "# model_L = load_model('my_model.h5')\n",
    "# model_L.compile(loss='categorical_crossentropy',\n",
    "#               optimizer='adam',\n",
    "#               metrics=['accuracy'])\n",
    "# score = model_L.evaluate(X_test, Y_test, verbose=0)\n",
    "# print(\"%s: %.2f%%\" % (model_L.metrics_names[1], score[1]*100))"
   ]
  }
 ],
 "metadata": {
  "kernelspec": {
   "display_name": "Python 3",
   "language": "python",
   "name": "python3"
  },
  "language_info": {
   "codemirror_mode": {
    "name": "ipython",
    "version": 3
   },
   "file_extension": ".py",
   "mimetype": "text/x-python",
   "name": "python",
   "nbconvert_exporter": "python",
   "pygments_lexer": "ipython3",
   "version": "3.6.1"
  }
 },
 "nbformat": 4,
 "nbformat_minor": 2
}
